{
 "cells": [
  {
   "cell_type": "markdown",
   "id": "533a1788",
   "metadata": {},
   "source": [
    "# Exercise 1"
   ]
  },
  {
   "cell_type": "markdown",
   "id": "3aa5448d",
   "metadata": {},
   "source": [
    "### завдання вирішував за формулою включень-виключень"
   ]
  },
  {
   "cell_type": "code",
   "execution_count": 18,
   "id": "b3b70ad8",
   "metadata": {},
   "outputs": [],
   "source": [
    "total = 37\n",
    "math = 15\n",
    "phys = 16\n",
    "chem = 19\n",
    "math_phys = 7\n",
    "math_chem = 9\n",
    "phys_chem = 6\n",
    "math_phys_chem = 4"
   ]
  },
  {
   "cell_type": "code",
   "execution_count": 31,
   "id": "92513fa4",
   "metadata": {},
   "outputs": [
    {
     "name": "stdout",
     "output_type": "stream",
     "text": [
      "Kількість студентів хоча б з однією відмінною оцінкою: 20\n"
     ]
    }
   ],
   "source": [
    "result = math + phys + chem - math_phys - math_chem - phys_chem - (math_phys_chem * 2)\n",
    "print(f'Kількість студентів хоча б з однією відмінною оцінкою: {result}')"
   ]
  },
  {
   "cell_type": "markdown",
   "id": "a8861f01",
   "metadata": {},
   "source": [
    "# Exercise 2"
   ]
  },
  {
   "cell_type": "markdown",
   "id": "0e1e59a1",
   "metadata": {},
   "source": [
    "### завдання вирішував за формулою включень-виключень"
   ]
  },
  {
   "cell_type": "code",
   "execution_count": 28,
   "id": "3ac041c4",
   "metadata": {},
   "outputs": [],
   "source": [
    "total_days = 30\n",
    "rain = 12\n",
    "wind = 8\n",
    "cold = 4\n",
    "rain_wind = 5\n",
    "rain_cold = 3\n",
    "wind_cold = 2\n",
    "rain_wind_cold = 1"
   ]
  },
  {
   "cell_type": "code",
   "execution_count": 32,
   "id": "64b73c58",
   "metadata": {},
   "outputs": [
    {
     "name": "stdout",
     "output_type": "stream",
     "text": [
      "Кількість днів з гарною погодою у вересні: 18\n"
     ]
    }
   ],
   "source": [
    "result2 = total_days - (rain + wind + cold - rain_wind - rain_cold - wind_cold - (rain_wind_cold * 2))\n",
    "print(f'Кількість днів з гарною погодою у вересні: {result2}')"
   ]
  },
  {
   "cell_type": "code",
   "execution_count": null,
   "id": "aeb84b35",
   "metadata": {},
   "outputs": [],
   "source": []
  }
 ],
 "metadata": {
  "kernelspec": {
   "display_name": "Python 3 (ipykernel)",
   "language": "python",
   "name": "python3"
  },
  "language_info": {
   "codemirror_mode": {
    "name": "ipython",
    "version": 3
   },
   "file_extension": ".py",
   "mimetype": "text/x-python",
   "name": "python",
   "nbconvert_exporter": "python",
   "pygments_lexer": "ipython3",
   "version": "3.9.13"
  }
 },
 "nbformat": 4,
 "nbformat_minor": 5
}
